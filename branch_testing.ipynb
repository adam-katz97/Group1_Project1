{
 "cells": [
  {
   "cell_type": "code",
   "execution_count": 20,
   "metadata": {},
   "outputs": [],
   "source": [
    "import omdb\n",
    "import requests\n",
    "import json\n",
    "from config import omdb_api_key\n",
    "import pandas as pd\n",
    "import numpy as np\n",
    "from pprint import pprint"
   ]
  },
  {
   "cell_type": "code",
   "execution_count": null,
   "metadata": {},
   "outputs": [],
   "source": []
  },
  {
   "cell_type": "code",
   "execution_count": 6,
   "metadata": {},
   "outputs": [],
   "source": [
    "omdb.set_default('api_key', omdb_api_key)"
   ]
  },
  {
   "cell_type": "code",
   "execution_count": 21,
   "metadata": {},
   "outputs": [
    {
     "name": "stdout",
     "output_type": "stream",
     "text": [
      "{'Actors': 'Marlon Brando, Gene Hackman, Christopher Reeve, Ned Beatty',\n",
      " 'Awards': 'Nominated for 3 Oscars. Another 17 wins & 20 nominations.',\n",
      " 'BoxOffice': 'N/A',\n",
      " 'Country': 'USA, UK, Canada, Switzerland',\n",
      " 'DVD': 'N/A',\n",
      " 'Director': 'Richard Donner',\n",
      " 'Genre': 'Action, Adventure, Drama, Sci-Fi',\n",
      " 'Language': 'English',\n",
      " 'Metascore': '80',\n",
      " 'Plot': 'An alien orphan is sent from his dying planet to Earth, where he '\n",
      "         \"grows up to become his adoptive home's first and greatest superhero.\",\n",
      " 'Poster': 'https://m.media-amazon.com/images/M/MV5BMzA0YWMwMTUtMTVhNC00NjRkLWE2ZTgtOWEzNjJhYzNiMTlkXkEyXkFqcGdeQXVyNjc1NTYyMjg@._V1_SX300.jpg',\n",
      " 'Production': 'Dovemead Films',\n",
      " 'Rated': 'PG',\n",
      " 'Ratings': [{'Source': 'Internet Movie Database', 'Value': '7.3/10'},\n",
      "             {'Source': 'Rotten Tomatoes', 'Value': '94%'},\n",
      "             {'Source': 'Metacritic', 'Value': '80/100'}],\n",
      " 'Released': '15 Dec 1978',\n",
      " 'Response': 'True',\n",
      " 'Runtime': '143 min',\n",
      " 'Title': 'Superman',\n",
      " 'Type': 'movie',\n",
      " 'Website': 'N/A',\n",
      " 'Writer': 'Jerry Siegel (character created by: Superman), Joe Shuster '\n",
      "           '(character created by: Superman), Mario Puzo (story), Mario Puzo '\n",
      "           '(screenplay), David Newman (screenplay), Leslie Newman '\n",
      "           '(screenplay), Robert Benton (screenplay)',\n",
      " 'Year': '1978',\n",
      " 'imdbID': 'tt0078346',\n",
      " 'imdbRating': '7.3',\n",
      " 'imdbVotes': '156,949'}\n"
     ]
    }
   ],
   "source": [
    "title=\"Superman\"\n",
    "url=f\"http://www.omdbapi.com/?apikey={omdb_api_key}&t={title}\"\n",
    "response=requests.get(url)\n",
    "movie=response.json()\n",
    "#json.dumps(movie, indent=4, sort_keys=True)\n",
    "pprint(movie)"
   ]
  },
  {
   "cell_type": "code",
   "execution_count": null,
   "metadata": {},
   "outputs": [],
   "source": []
  }
 ],
 "metadata": {
  "kernelspec": {
   "display_name": "Python 3",
   "language": "python",
   "name": "python3"
  },
  "language_info": {
   "codemirror_mode": {
    "name": "ipython",
    "version": 3
   },
   "file_extension": ".py",
   "mimetype": "text/x-python",
   "name": "python",
   "nbconvert_exporter": "python",
   "pygments_lexer": "ipython3",
   "version": "3.6.10"
  }
 },
 "nbformat": 4,
 "nbformat_minor": 4
}
