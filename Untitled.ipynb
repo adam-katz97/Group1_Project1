{
 "cells": [
  {
   "cell_type": "code",
<<<<<<< HEAD
   "execution_count": 1,
   "metadata": {},
   "outputs": [],
   "source": [
    "import pandas as pd"
=======
   "execution_count": 19,
   "metadata": {},
   "outputs": [
    {
     "name": "stdout",
     "output_type": "stream",
     "text": [
      "Requirement already satisfied: omdb in c:\\users\\anich\\anaconda\\lib\\site-packages (0.10.1)\n",
      "Requirement already satisfied: requests>=2.0.1 in c:\\users\\anich\\anaconda\\lib\\site-packages (from omdb) (2.22.0)\n",
      "Requirement already satisfied: urllib3!=1.25.0,!=1.25.1,<1.26,>=1.21.1 in c:\\users\\anich\\anaconda\\lib\\site-packages (from requests>=2.0.1->omdb) (1.25.8)\n",
      "Requirement already satisfied: idna<2.9,>=2.5 in c:\\users\\anich\\anaconda\\lib\\site-packages (from requests>=2.0.1->omdb) (2.8)\n",
      "Requirement already satisfied: chardet<3.1.0,>=3.0.2 in c:\\users\\anich\\anaconda\\lib\\site-packages (from requests>=2.0.1->omdb) (3.0.4)\n",
      "Requirement already satisfied: certifi>=2017.4.17 in c:\\users\\anich\\anaconda\\lib\\site-packages (from requests>=2.0.1->omdb) (2019.11.28)\n",
      "Note: you may need to restart the kernel to use updated packages.\n"
     ]
    }
   ],
   "source": [
    "pip install omdb"
   ]
  },
  {
   "cell_type": "code",
   "execution_count": 20,
   "metadata": {},
   "outputs": [],
   "source": [
    "import requests\n",
    "import json\n",
    "from config import api_key"
   ]
  },
  {
   "cell_type": "markdown",
   "metadata": {},
   "source": [
    "ombd.set_default = ('apikey', api_key)"
   ]
  },
  {
   "cell_type": "code",
   "execution_count": 21,
   "metadata": {},
   "outputs": [],
   "source": [
    "url = \"http://www.omdbapi.com/?s=\""
>>>>>>> aa009676c7c3979c49a80700160f2c3ca2db72b6
   ]
  },
  {
   "cell_type": "code",
<<<<<<< HEAD
   "execution_count": 2,
   "metadata": {},
   "outputs": [],
   "source": [
    "best_picture_file = \"Output/best_picture_omdb_dataframe\"\n",
    "best_actor_file = \"Output/best_actor_omdb_dataframe\"\n",
    "best_actress_file = \"Output/best_actress_omdb_dataframe\"\n",
    "best_director_file = \"Output/best_director_omdb_dataframe\"\n",
    "best_adapted_file = \"Output/best_adapted_omdb_dataframe\"\n",
    "best_original_file = \"Output/best_original_omdb_dataframe\"\n",
    "best_effects_file = \"Output/best_effects_omdb_dataframe\""
=======
   "execution_count": 22,
   "metadata": {},
   "outputs": [],
   "source": [
    "response = requests.get(url)"
>>>>>>> aa009676c7c3979c49a80700160f2c3ca2db72b6
   ]
  },
  {
   "cell_type": "code",
<<<<<<< HEAD
   "execution_count": 4,
   "metadata": {},
   "outputs": [
    {
     "ename": "NameError",
     "evalue": "name 'best_picture_omdb_file' is not defined",
     "output_type": "error",
     "traceback": [
      "\u001b[1;31m---------------------------------------------------------------------------\u001b[0m",
      "\u001b[1;31mNameError\u001b[0m                                 Traceback (most recent call last)",
      "\u001b[1;32m<ipython-input-4-82cb696989e1>\u001b[0m in \u001b[0;36m<module>\u001b[1;34m\u001b[0m\n\u001b[1;32m----> 1\u001b[1;33m \u001b[0mBest_picture_df\u001b[0m \u001b[1;33m=\u001b[0m \u001b[0mpd\u001b[0m\u001b[1;33m.\u001b[0m\u001b[0mread_csv\u001b[0m\u001b[1;33m(\u001b[0m\u001b[0mbest_picture_omdb_file\u001b[0m\u001b[1;33m)\u001b[0m\u001b[1;33m\u001b[0m\u001b[1;33m\u001b[0m\u001b[0m\n\u001b[0m\u001b[0;32m      2\u001b[0m \u001b[0mBest_actor_df\u001b[0m \u001b[1;33m=\u001b[0m \u001b[0mpd\u001b[0m\u001b[1;33m.\u001b[0m\u001b[0mread_csv\u001b[0m\u001b[1;33m(\u001b[0m\u001b[0mbest_actor_omdb_file\u001b[0m\u001b[1;33m)\u001b[0m\u001b[1;33m\u001b[0m\u001b[1;33m\u001b[0m\u001b[0m\n\u001b[0;32m      3\u001b[0m \u001b[0mBest_actress_df\u001b[0m \u001b[1;33m=\u001b[0m \u001b[0mpd\u001b[0m\u001b[1;33m.\u001b[0m\u001b[0mread_csv\u001b[0m\u001b[1;33m(\u001b[0m\u001b[0mbest_actress_omdb_file\u001b[0m\u001b[1;33m)\u001b[0m\u001b[1;33m\u001b[0m\u001b[1;33m\u001b[0m\u001b[0m\n\u001b[0;32m      4\u001b[0m \u001b[0mBest_director_df\u001b[0m \u001b[1;33m=\u001b[0m \u001b[0mpd\u001b[0m\u001b[1;33m.\u001b[0m\u001b[0mread_csv\u001b[0m\u001b[1;33m(\u001b[0m\u001b[0mbest_director_omdb_file\u001b[0m\u001b[1;33m)\u001b[0m\u001b[1;33m\u001b[0m\u001b[1;33m\u001b[0m\u001b[0m\n\u001b[0;32m      5\u001b[0m \u001b[0mBest_effects_df\u001b[0m \u001b[1;33m=\u001b[0m \u001b[0mpd\u001b[0m\u001b[1;33m.\u001b[0m\u001b[0mread_csv\u001b[0m\u001b[1;33m(\u001b[0m\u001b[0mbest_effects_omdb_file\u001b[0m\u001b[1;33m)\u001b[0m\u001b[1;33m\u001b[0m\u001b[1;33m\u001b[0m\u001b[0m\n",
      "\u001b[1;31mNameError\u001b[0m: name 'best_picture_omdb_file' is not defined"
=======
   "execution_count": 23,
   "metadata": {},
   "outputs": [
    {
     "name": "stdout",
     "output_type": "stream",
     "text": [
      "{\n",
      "      \"Response\": \"False\",\n",
      "      \"Error\": \"No API key provided.\"\n",
      "}\n"
>>>>>>> aa009676c7c3979c49a80700160f2c3ca2db72b6
     ]
    }
   ],
   "source": [
<<<<<<< HEAD
    "best_picture_df = pd.read_csv(best_picture_file)\n",
    "best_actor_df = pd.read_csv(best_actor_omdb_file)\n",
    "Best_actress_df = pd.read_csv(best_actress_omdb_file)\n",
    "Best_director_df = pd.read_csv(best_director_omdb_file)\n",
    "Best_effects_df = pd.read_csv(best_effects_omdb_file)\n",
    "Best_original_df = pd.read_csv(best_original_omdb_file)\n",
    "Best_adapted_df = pd.read_csv(best_adapted_omdb_file)"
=======
    "response_json = response.json()\n",
    "print(json.dumps(response_json, indent=6))"
>>>>>>> aa009676c7c3979c49a80700160f2c3ca2db72b6
   ]
  },
  {
   "cell_type": "code",
   "execution_count": null,
   "metadata": {},
   "outputs": [],
   "source": []
  }
 ],
 "metadata": {
  "kernelspec": {
   "display_name": "Python 3",
   "language": "python",
   "name": "python3"
  },
  "language_info": {
   "codemirror_mode": {
    "name": "ipython",
    "version": 3
   },
   "file_extension": ".py",
   "mimetype": "text/x-python",
   "name": "python",
   "nbconvert_exporter": "python",
   "pygments_lexer": "ipython3",
<<<<<<< HEAD
   "version": "3.6.10"
=======
   "version": "3.7.6"
>>>>>>> aa009676c7c3979c49a80700160f2c3ca2db72b6
  }
 },
 "nbformat": 4,
 "nbformat_minor": 4
}
